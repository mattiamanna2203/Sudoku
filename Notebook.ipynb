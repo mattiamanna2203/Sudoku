{
 "cells": [
  {
   "cell_type": "markdown",
   "id": "27a0abd5",
   "metadata": {},
   "source": [
    "Notebook per provare la classe **sudoku** e verificarne la correttezza."
   ]
  },
  {
   "cell_type": "code",
   "execution_count": 1,
   "id": "26966600",
   "metadata": {},
   "outputs": [],
   "source": [
    "import sudoku # Importare la classe\n",
    "\n",
    "import json # Per importare dati da file json"
   ]
  },
  {
   "cell_type": "markdown",
   "id": "bf64a75d",
   "metadata": {},
   "source": [
    "Importazione dei dati e loro overview."
   ]
  },
  {
   "cell_type": "code",
   "execution_count": 2,
   "id": "749a3d07",
   "metadata": {},
   "outputs": [
    {
     "name": "stdout",
     "output_type": "stream",
     "text": [
      "Ci sono 12 sudoku di difficoltà 1.\n",
      "Ci sono 22 sudoku di difficoltà 2.\n",
      "Ci sono 16 sudoku di difficoltà 3.\n",
      "Ci sono 12 sudoku di difficoltà 4.\n",
      "Ci sono 16 sudoku di difficoltà 5.\n"
     ]
    }
   ],
   "source": [
    "with open('Dati/Sudoku.json') as f:\n",
    "    data = json.load(f)\n",
    "    \n",
    "# Estrarre e ordinare i sudoku per difficoltà. \n",
    "sudoku_per_difficoltà = {}\n",
    "\n",
    "# Dizionario per salvare statistiche descrittive sui sudoku\n",
    "stats = {}\n",
    "\n",
    "\n",
    "for difficoltà in range(1,6): # Iterare sui livelli di difficoltà\n",
    "    sudoku_provvisorio = {}\n",
    "    indice = 0\n",
    "    stats[difficoltà] = 0\n",
    "    for sudoku_iesimo in data:\n",
    "        if sudoku_iesimo[\"difficoltà\"] == difficoltà:\n",
    "            sudoku_provvisorio[indice] = sudoku_iesimo\n",
    "            indice += 1\n",
    "            stats[difficoltà] += 1\n",
    "    sudoku_per_difficoltà[difficoltà] =    sudoku_provvisorio   \n",
    "    \n",
    "for difficoltà, numerosità in stats.items():\n",
    "    print(f\"Ci sono {numerosità} sudoku di difficoltà {difficoltà}.\")"
   ]
  },
  {
   "cell_type": "markdown",
   "id": "290e4a6d",
   "metadata": {},
   "source": [
    "# Risoluzione di sudoku"
   ]
  },
  {
   "cell_type": "markdown",
   "id": "b156cbdf",
   "metadata": {},
   "source": [
    "## Risolvere quanti più sudoku possibile"
   ]
  },
  {
   "cell_type": "markdown",
   "id": "9a1e336a",
   "metadata": {},
   "source": [
    "Cella di controllo per controllare quanti sudoku vengono risolti."
   ]
  },
  {
   "cell_type": "code",
   "execution_count": 3,
   "id": "5f2265c4",
   "metadata": {},
   "outputs": [
    {
     "name": "stdout",
     "output_type": "stream",
     "text": [
      "Sudoku n 0-870. Grado difficoltà: 2. Numeri mancanti: 48, Aggiunti: 48, Rimanenti: 0. Autore: Sam Willer. \u001b[1;32mCompletato\u001b[0m.\n",
      "Sudoku n 1-870. Grado difficoltà: 1. Numeri mancanti: 42, Aggiunti: 42, Rimanenti: 0. Autore: Bobby. \u001b[1;32mCompletato\u001b[0m.\n",
      "Sudoku n 2-870. Grado difficoltà: 1. Numeri mancanti: 42, Aggiunti: 42, Rimanenti: 0. Autore: Bobby. \u001b[1;32mCompletato\u001b[0m.\n",
      "Sudoku n 3-870. Grado difficoltà: 2. Numeri mancanti: 46, Aggiunti: 46, Rimanenti: 0. Autore: Prisk. \u001b[1;32mCompletato\u001b[0m.\n",
      "Sudoku n 4-870. Grado difficoltà: 2. Numeri mancanti: 46, Aggiunti: 46, Rimanenti: 0. Autore: Prisk. \u001b[1;32mCompletato\u001b[0m.\n",
      "Sudoku n 5-870. Grado difficoltà: 2. Numeri mancanti: 46, Aggiunti: 46, Rimanenti: 0. Autore: Sam Willer. \u001b[1;32mCompletato\u001b[0m.\n",
      "Sudoku n 6-870. Grado difficoltà: 2. Numeri mancanti: 47, Aggiunti: 47, Rimanenti: 0. Autore: Sam Willer. \u001b[1;32mCompletato\u001b[0m.\n",
      "Sudoku n 7-870. Grado difficoltà: 3. Numeri mancanti: 48, Aggiunti: 48, Rimanenti: 0. Autore: O. Caino. \u001b[1;32mCompletato\u001b[0m.\n",
      "Sudoku n 8-870. Grado difficoltà: 3. Numeri mancanti: 48, Aggiunti: 48, Rimanenti: 0. Autore: O. Caino. \u001b[1;32mCompletato\u001b[0m.\n",
      "Sudoku n 9-870. Grado difficoltà: 5. Numeri mancanti: 50, Aggiunti: 50, Rimanenti: 0. Autore: Orchessa. \u001b[1;32mCompletato\u001b[0m.\n",
      "Sudoku n 10-870. Grado difficoltà: 5. Numeri mancanti: 50, Aggiunti: 50, Rimanenti: 0. Autore: Salasso. \u001b[1;32mCompletato\u001b[0m.\n",
      "Sudoku n 11-870. Grado difficoltà: 1. Numeri mancanti: 42, Aggiunti: 42, Rimanenti: 0. Autore: Bobby. \u001b[1;32mCompletato\u001b[0m.\n",
      "Sudoku n 12-870. Grado difficoltà: 1. Numeri mancanti: 42, Aggiunti: 42, Rimanenti: 0. Autore: Bobby. \u001b[1;32mCompletato\u001b[0m.\n",
      "Sudoku n 13-870. Grado difficoltà: 2. Numeri mancanti: 47, Aggiunti: 47, Rimanenti: 0. Autore: C. Guidi. \u001b[1;32mCompletato\u001b[0m.\n",
      "Sudoku n 14-870. Grado difficoltà: 2. Numeri mancanti: 47, Aggiunti: 47, Rimanenti: 0. Autore: C. Guidi. \u001b[1;32mCompletato\u001b[0m.\n",
      "Sudoku n 15-870. Grado difficoltà: 3. Numeri mancanti: 48, Aggiunti: 48, Rimanenti: 0. Autore: Charlotte. \u001b[1;32mCompletato\u001b[0m.\n",
      "Sudoku n 16-870. Grado difficoltà: 3. Numeri mancanti: 48, Aggiunti: 48, Rimanenti: 0. Autore: Charlotte. \u001b[1;32mCompletato\u001b[0m.\n",
      "Sudoku n 17-870. Grado difficoltà: 4. Numeri mancanti: 48, Aggiunti: 48, Rimanenti: 0. Autore: A. Pasini. \u001b[1;32mCompletato\u001b[0m.\n",
      "Sudoku n 18-870. Grado difficoltà: 4. Numeri mancanti: 48, Aggiunti: 48, Rimanenti: 0. Autore: A. Pasini. \u001b[1;32mCompletato\u001b[0m.\n",
      "Sudoku n 19-870. Grado difficoltà: 5. Numeri mancanti: 50, Aggiunti: 50, Rimanenti: 0. Autore: Salasso. \u001b[1;32mCompletato\u001b[0m.\n",
      "Sudoku n 20-870. Grado difficoltà: 5. Numeri mancanti: 51, Aggiunti: 51, Rimanenti: 0. Autore: L'Indiano. \u001b[1;32mCompletato\u001b[0m.\n",
      "Sudoku n 21-870. Grado difficoltà: 1. Numeri mancanti: 42, Aggiunti: 42, Rimanenti: 0. Autore: Bobby. \u001b[1;32mCompletato\u001b[0m.\n",
      "Sudoku n 22-870. Grado difficoltà: 1. Numeri mancanti: 42, Aggiunti: 42, Rimanenti: 0. Autore: Bobby. \u001b[1;32mCompletato\u001b[0m.\n",
      "Sudoku n 23-870. Grado difficoltà: 2. Numeri mancanti: 47, Aggiunti: 47, Rimanenti: 0. Autore: Sam Willer. \u001b[1;32mCompletato\u001b[0m.\n",
      "Sudoku n 24-870. Grado difficoltà: 2. Numeri mancanti: 47, Aggiunti: 47, Rimanenti: 0. Autore: Sam Willer. \u001b[1;32mCompletato\u001b[0m.\n",
      "Sudoku n 25-870. Grado difficoltà: 3. Numeri mancanti: 48, Aggiunti: 48, Rimanenti: 0. Autore: O. Caino. \u001b[1;32mCompletato\u001b[0m.\n",
      "Sudoku n 26-870. Grado difficoltà: 3. Numeri mancanti: 48, Aggiunti: 48, Rimanenti: 0. Autore: O. Caino. \u001b[1;32mCompletato\u001b[0m.\n",
      "Sudoku n 27-870. Grado difficoltà: 4. Numeri mancanti: 48, Aggiunti: 48, Rimanenti: 0. Autore: Orchessa. \u001b[1;32mCompletato\u001b[0m.\n",
      "Sudoku n 28-870. Grado difficoltà: 4. Numeri mancanti: 48, Aggiunti: 48, Rimanenti: 0. Autore: Orchessa. \u001b[1;32mCompletato\u001b[0m.\n",
      "Sudoku n 29-870. Grado difficoltà: 5. Numeri mancanti: 50, Aggiunti: 50, Rimanenti: 0. Autore: Orchessa. \u001b[1;32mCompletato\u001b[0m.\n",
      "Sudoku n 30-870. Grado difficoltà: 5. Numeri mancanti: 51, Aggiunti: 51, Rimanenti: 0. Autore: Astruso. \u001b[1;32mCompletato\u001b[0m.\n",
      "Sudoku n 31-870. Grado difficoltà: 2. Numeri mancanti: 47, Aggiunti: 47, Rimanenti: 0. Autore: C. Guidi. \u001b[1;32mCompletato\u001b[0m.\n",
      "Sudoku n 32-870. Grado difficoltà: 2. Numeri mancanti: 47, Aggiunti: 47, Rimanenti: 0. Autore: C. Guidi. \u001b[1;32mCompletato\u001b[0m.\n",
      "Sudoku n 33-870. Grado difficoltà: 3. Numeri mancanti: 48, Aggiunti: 48, Rimanenti: 0. Autore: Charlotte. \u001b[1;32mCompletato\u001b[0m.\n",
      "Sudoku n 34-870. Grado difficoltà: 3. Numeri mancanti: 48, Aggiunti: 48, Rimanenti: 0. Autore: Charlotte. \u001b[1;32mCompletato\u001b[0m.\n",
      "Sudoku n 35-870. Grado difficoltà: 4. Numeri mancanti: 48, Aggiunti: 48, Rimanenti: 0. Autore: Salasso. \u001b[1;32mCompletato\u001b[0m.\n",
      "Sudoku n 36-870. Grado difficoltà: 4. Numeri mancanti: 48, Aggiunti: 48, Rimanenti: 0. Autore: Salasso. \u001b[1;32mCompletato\u001b[0m.\n",
      "Sudoku n 37-870. Grado difficoltà: 5. Numeri mancanti: 51, Aggiunti: 51, Rimanenti: 0. Autore: Astruso. \u001b[1;32mCompletato\u001b[0m.\n",
      "Sudoku n 38-870. Grado difficoltà: 5. Numeri mancanti: 53, Aggiunti: 53, Rimanenti: 0. Autore: Rommel. \u001b[1;32mCompletato\u001b[0m.\n",
      "Sudoku n 0-871. Grado difficoltà: 2. Numeri mancanti: 47, Aggiunti: 47, Rimanenti: 0. Autore: Sam Willer. \u001b[1;32mCompletato\u001b[0m.\n",
      "Sudoku n 1-871. Grado difficoltà: 1. Numeri mancanti: 41, Aggiunti: 41, Rimanenti: 0. Autore: Bobby. \u001b[1;32mCompletato\u001b[0m.\n",
      "Sudoku n 2-871. Grado difficoltà: 1. Numeri mancanti: 44, Aggiunti: 44, Rimanenti: 0. Autore: Bobby. \u001b[1;32mCompletato\u001b[0m.\n",
      "Sudoku n 3-871. Grado difficoltà: 2. Numeri mancanti: 46, Aggiunti: 46, Rimanenti: 0. Autore: Prisk. \u001b[1;32mCompletato\u001b[0m.\n",
      "Sudoku n 4-871. Grado difficoltà: 2. Numeri mancanti: 45, Aggiunti: 45, Rimanenti: 0. Autore: Prisk. \u001b[1;32mCompletato\u001b[0m.\n",
      "Sudoku n 5-871. Grado difficoltà: 2. Numeri mancanti: 45, Aggiunti: 45, Rimanenti: 0. Autore: Sam Willer. \u001b[1;32mCompletato\u001b[0m.\n",
      "Sudoku n 6-871. Grado difficoltà: 2. Numeri mancanti: 45, Aggiunti: 45, Rimanenti: 0. Autore: Sam Willer. \u001b[1;32mCompletato\u001b[0m.\n",
      "Sudoku n 7-871. Grado difficoltà: 3. Numeri mancanti: 47, Aggiunti: 47, Rimanenti: 0. Autore: O. Caino. \u001b[1;32mCompletato\u001b[0m.\n",
      "Sudoku n 8-871. Grado difficoltà: 3. Numeri mancanti: 47, Aggiunti: 47, Rimanenti: 0. Autore: O. Caino. \u001b[1;32mCompletato\u001b[0m.\n",
      "Sudoku n 9-871. Grado difficoltà: 5. Numeri mancanti: 49, Aggiunti: 49, Rimanenti: 0. Autore: Orchessa. \u001b[1;32mCompletato\u001b[0m.\n",
      "Sudoku n 10-871. Grado difficoltà: 5. Numeri mancanti: 49, Aggiunti: 49, Rimanenti: 0. Autore: Salasso. \u001b[1;32mCompletato\u001b[0m.\n",
      "Sudoku n 11-871. Grado difficoltà: 1. Numeri mancanti: 41, Aggiunti: 41, Rimanenti: 0. Autore: Bobby. \u001b[1;32mCompletato\u001b[0m.\n",
      "Sudoku n 12-871. Grado difficoltà: 1. Numeri mancanti: 41, Aggiunti: 41, Rimanenti: 0. Autore: Bobby. \u001b[1;32mCompletato\u001b[0m.\n",
      "Sudoku n 13-871. Grado difficoltà: 2. Numeri mancanti: 45, Aggiunti: 45, Rimanenti: 0. Autore: C. Guidi. \u001b[1;32mCompletato\u001b[0m.\n",
      "Sudoku n 14-871. Grado difficoltà: 2. Numeri mancanti: 45, Aggiunti: 45, Rimanenti: 0. Autore: C. Guidi. \u001b[1;32mCompletato\u001b[0m.\n",
      "Sudoku n 15-871. Grado difficoltà: 3. Numeri mancanti: 47, Aggiunti: 47, Rimanenti: 0. Autore: Charlotte. \u001b[1;32mCompletato\u001b[0m.\n",
      "Sudoku n 16-871. Grado difficoltà: 3. Numeri mancanti: 47, Aggiunti: 47, Rimanenti: 0. Autore: Charlotte. \u001b[1;32mCompletato\u001b[0m.\n",
      "Sudoku n 17-871. Grado difficoltà: 4. Numeri mancanti: 47, Aggiunti: 47, Rimanenti: 0. Autore: A. Pasini. \u001b[1;32mCompletato\u001b[0m.\n",
      "Sudoku n 18-871. Grado difficoltà: 4. Numeri mancanti: 47, Aggiunti: 47, Rimanenti: 0. Autore: A. Pasini. \u001b[1;32mCompletato\u001b[0m.\n",
      "Sudoku n 19-871. Grado difficoltà: 5. Numeri mancanti: 49, Aggiunti: 49, Rimanenti: 0. Autore: Salasso. \u001b[1;32mCompletato\u001b[0m.\n",
      "Sudoku n 20-871. Grado difficoltà: 5. Numeri mancanti: 51, Aggiunti: 51, Rimanenti: 0. Autore: L'Indiano. \u001b[1;32mCompletato\u001b[0m.\n",
      "Sudoku n 21-871. Grado difficoltà: 1. Numeri mancanti: 42, Aggiunti: 42, Rimanenti: 0. Autore: Bobby. \u001b[1;32mCompletato\u001b[0m.\n",
      "Sudoku n 22-871. Grado difficoltà: 1. Numeri mancanti: 42, Aggiunti: 42, Rimanenti: 0. Autore: Bobby. \u001b[1;32mCompletato\u001b[0m.\n",
      "Sudoku n 23-871. Grado difficoltà: 2. Numeri mancanti: 45, Aggiunti: 45, Rimanenti: 0. Autore: Sam Willer. \u001b[1;32mCompletato\u001b[0m.\n",
      "Sudoku n 24-871. Grado difficoltà: 2. Numeri mancanti: 45, Aggiunti: 45, Rimanenti: 0. Autore: Sam Willer. \u001b[1;32mCompletato\u001b[0m.\n",
      "Sudoku n 25-871. Grado difficoltà: 3. Numeri mancanti: 47, Aggiunti: 47, Rimanenti: 0. Autore: O. Caino. \u001b[1;32mCompletato\u001b[0m.\n",
      "Sudoku n 26-871. Grado difficoltà: 3. Numeri mancanti: 47, Aggiunti: 47, Rimanenti: 0. Autore: O. Caino. \u001b[1;32mCompletato\u001b[0m.\n",
      "Sudoku n 27-871. Grado difficoltà: 4. Numeri mancanti: 47, Aggiunti: 47, Rimanenti: 0. Autore: Orchessa. \u001b[1;32mCompletato\u001b[0m.\n",
      "Sudoku n 28-871. Grado difficoltà: 4. Numeri mancanti: 47, Aggiunti: 47, Rimanenti: 0. Autore: Orchessa. \u001b[1;32mCompletato\u001b[0m.\n",
      "Sudoku n 29-871. Grado difficoltà: 5. Numeri mancanti: 49, Aggiunti: 49, Rimanenti: 0. Autore: Orchessa. \u001b[1;32mCompletato\u001b[0m.\n",
      "Sudoku n 30-871. Grado difficoltà: 5. Numeri mancanti: 51, Aggiunti: 51, Rimanenti: 0. Autore: Astruso. \u001b[1;32mCompletato\u001b[0m.\n",
      "Sudoku n 31-871. Grado difficoltà: 2. Numeri mancanti: 46, Aggiunti: 46, Rimanenti: 0. Autore: C. Guidi. \u001b[1;32mCompletato\u001b[0m.\n",
      "Sudoku n 32-871. Grado difficoltà: 2. Numeri mancanti: 46, Aggiunti: 46, Rimanenti: 0. Autore: C. Guidi. \u001b[1;32mCompletato\u001b[0m.\n",
      "Sudoku n 33-871. Grado difficoltà: 3. Numeri mancanti: 48, Aggiunti: 48, Rimanenti: 0. Autore: Charlotte. \u001b[1;32mCompletato\u001b[0m.\n",
      "Sudoku n 34-871. Grado difficoltà: 3. Numeri mancanti: 47, Aggiunti: 47, Rimanenti: 0. Autore: Charlotte. \u001b[1;32mCompletato\u001b[0m.\n",
      "Sudoku n 35-871. Grado difficoltà: 4. Numeri mancanti: 47, Aggiunti: 47, Rimanenti: 0. Autore: Salasso. \u001b[1;32mCompletato\u001b[0m.\n",
      "Sudoku n 36-871. Grado difficoltà: 4. Numeri mancanti: 47, Aggiunti: 47, Rimanenti: 0. Autore: Salasso. \u001b[1;32mCompletato\u001b[0m.\n",
      "Sudoku n 37-871. Grado difficoltà: 5. Numeri mancanti: 51, Aggiunti: 51, Rimanenti: 0. Autore: Astruso. \u001b[1;32mCompletato\u001b[0m.\n",
      "Sudoku n 38-871. Grado difficoltà: 5. Numeri mancanti: 53, Aggiunti: 53, Rimanenti: 0. Autore: Rommel. \u001b[1;32mCompletato\u001b[0m.\n"
     ]
    }
   ],
   "source": [
    "# ANSI escape codes\n",
    "GREEN_BOLD = \"\\033[1;32m\"\n",
    "RED_BOLD = \"\\033[1;31m\"\n",
    "RESET = \"\\033[0m\"\n",
    "for i in data:\n",
    "\n",
    "   schema = sudoku.sudoku(i[\"schema_iniziale\"])\n",
    "   schema.solve(verbose=False)\n",
    "   if schema.solved:\n",
    "      soluzione = f\"{GREEN_BOLD}Completato{RESET}\"\n",
    "   else:\n",
    "      soluzione = f\"{RED_BOLD}Non risolto.{RESET}\"\n",
    "   print(f'Sudoku n {i[\"indice\"]}-{i[\"fonte\"][19:22]}. Grado difficoltà: {i[\"difficoltà\"]}. Numeri mancanti: {schema.numeri_mancanti}, Aggiunti: {schema.numeri_aggiunti}, Rimanenti: {schema.numeri_mancanti-schema.numeri_aggiunti}. Autore: {i[\"autore\"]}. {soluzione}.')\n"
   ]
  },
  {
   "cell_type": "markdown",
   "id": "33025fc6",
   "metadata": {},
   "source": [
    "## Difficoltà 1"
   ]
  },
  {
   "cell_type": "code",
   "execution_count": 4,
   "id": "81454d5a",
   "metadata": {},
   "outputs": [
    {
     "name": "stdout",
     "output_type": "stream",
     "text": [
      "Indice: 1, Difficoltà: 1\n",
      " -----------------------\n",
      "| 8 0 7 | 0 2 9 | 0 0 0 |\n",
      "| 0 9 5 | 3 0 0 | 7 0 0 |\n",
      "| 3 1 0 | 0 0 8 | 9 6 0 |\n",
      " -----------------------\n",
      "| 0 8 0 | 0 7 0 | 4 0 5 |\n",
      "| 1 0 0 | 9 8 3 | 0 0 7 |\n",
      "| 7 0 6 | 0 1 0 | 0 3 0 |\n",
      " -----------------------\n",
      "| 0 7 8 | 2 0 0 | 0 4 3 |\n",
      "| 0 0 9 | 0 0 6 | 2 7 0 |\n",
      "| 0 0 0 | 8 3 0 | 5 0 6 |\n",
      " -----------------------\n"
     ]
    }
   ],
   "source": [
    "selected_sudoku = sudoku_per_difficoltà[1][0]\n",
    "print(f\"Indice: {selected_sudoku['indice']}, Difficoltà: {selected_sudoku['difficoltà']}\")\n",
    "S1_A = sudoku.sudoku(selected_sudoku[\"schema_iniziale\"])\n",
    "S1_A.show()\n",
    "S1_A.solve()"
   ]
  },
  {
   "cell_type": "code",
   "execution_count": 5,
   "id": "7d5a1ba2",
   "metadata": {},
   "outputs": [
    {
     "name": "stdout",
     "output_type": "stream",
     "text": [
      "Indice: 2, Difficoltà: 1\n",
      " -----------------------\n",
      "| 3 0 6 | 1 0 4 | 8 0 0 |\n",
      "| 0 0 0 | 6 8 9 | 4 0 0 |\n",
      "| 4 0 0 | 0 0 0 | 1 6 7 |\n",
      " -----------------------\n",
      "| 7 3 0 | 5 0 0 | 0 9 6 |\n",
      "| 0 6 0 | 0 9 0 | 0 1 0 |\n",
      "| 9 2 0 | 0 0 6 | 0 7 4 |\n",
      " -----------------------\n",
      "| 6 1 3 | 0 0 0 | 0 0 2 |\n",
      "| 0 0 5 | 4 6 1 | 0 0 0 |\n",
      "| 0 0 7 | 9 0 3 | 6 0 1 |\n",
      " -----------------------\n"
     ]
    }
   ],
   "source": [
    "selected_sudoku = sudoku_per_difficoltà[1][1]\n",
    "print(f\"Indice: {selected_sudoku['indice']}, Difficoltà: {selected_sudoku['difficoltà']}\")\n",
    "S1_B = sudoku.sudoku(selected_sudoku[\"schema_iniziale\"])\n",
    "S1_B.show()\n",
    "S1_B.solve()"
   ]
  },
  {
   "cell_type": "markdown",
   "id": "8d5d96ca",
   "metadata": {},
   "source": [
    "## Difficoltà 2"
   ]
  },
  {
   "cell_type": "code",
   "execution_count": 6,
   "id": "68672729",
   "metadata": {},
   "outputs": [
    {
     "name": "stdout",
     "output_type": "stream",
     "text": [
      "Indice: 0, Difficoltà: 2\n",
      " -----------------------\n",
      "| 8 0 0 | 0 0 5 | 0 4 1 |\n",
      "| 0 4 7 | 3 0 0 | 0 0 5 |\n",
      "| 0 6 3 | 0 0 1 | 8 0 0 |\n",
      " -----------------------\n",
      "| 0 9 0 | 1 0 0 | 2 0 4 |\n",
      "| 0 0 0 | 0 9 0 | 0 0 0 |\n",
      "| 3 0 2 | 0 0 4 | 0 9 0 |\n",
      " -----------------------\n",
      "| 0 0 5 | 2 0 0 | 4 1 0 |\n",
      "| 9 0 0 | 0 0 3 | 5 2 0 |\n",
      "| 2 8 0 | 4 0 0 | 0 0 9 |\n",
      " -----------------------\n"
     ]
    }
   ],
   "source": [
    "selected_sudoku = sudoku_per_difficoltà[2][0]\n",
    "print(f\"Indice: {selected_sudoku['indice']}, Difficoltà: {selected_sudoku['difficoltà']}\")\n",
    "S2_A = sudoku.sudoku(selected_sudoku[\"schema_iniziale\"])\n",
    "S2_A.show()\n",
    "S2_A.solve()"
   ]
  },
  {
   "cell_type": "code",
   "execution_count": 7,
   "id": "ebffd949",
   "metadata": {},
   "outputs": [
    {
     "name": "stdout",
     "output_type": "stream",
     "text": [
      "Indice: 3, Difficoltà: 2\n",
      " -----------------------\n",
      "| 0 0 0 | 5 0 0 | 9 7 0 |\n",
      "| 0 5 8 | 3 0 0 | 0 6 2 |\n",
      "| 0 7 0 | 8 6 0 | 1 0 3 |\n",
      " -----------------------\n",
      "| 1 3 7 | 0 0 0 | 0 0 0 |\n",
      "| 0 0 9 | 0 7 0 | 2 0 0 |\n",
      "| 0 0 0 | 0 0 0 | 7 3 1 |\n",
      " -----------------------\n",
      "| 3 0 1 | 0 4 8 | 0 9 0 |\n",
      "| 7 9 0 | 0 0 5 | 8 1 0 |\n",
      "| 0 8 6 | 0 0 1 | 0 0 0 |\n",
      " -----------------------\n"
     ]
    }
   ],
   "source": [
    "selected_sudoku = sudoku_per_difficoltà[2][1]\n",
    "print(f\"Indice: {selected_sudoku['indice']}, Difficoltà: {selected_sudoku['difficoltà']}\")\n",
    "S2_B = sudoku.sudoku(selected_sudoku[\"schema_iniziale\"])\n",
    "S2_B.show()\n",
    "S2_B.solve()"
   ]
  },
  {
   "cell_type": "code",
   "execution_count": 8,
   "id": "88a55103",
   "metadata": {},
   "outputs": [
    {
     "name": "stdout",
     "output_type": "stream",
     "text": [
      "Indice: 4, Difficoltà: 2\n",
      " -----------------------\n",
      "| 0 2 0 | 7 0 1 | 3 0 0 |\n",
      "| 5 0 7 | 3 8 0 | 0 0 0 |\n",
      "| 0 3 9 | 0 0 0 | 2 0 7 |\n",
      " -----------------------\n",
      "| 2 7 0 | 6 0 0 | 0 0 4 |\n",
      "| 0 4 0 | 0 2 0 | 0 7 0 |\n",
      "| 3 0 0 | 0 0 7 | 0 2 5 |\n",
      " -----------------------\n",
      "| 6 0 3 | 0 0 0 | 9 4 0 |\n",
      "| 0 0 0 | 0 6 9 | 5 0 1 |\n",
      "| 0 0 2 | 5 0 4 | 0 8 0 |\n",
      " -----------------------\n"
     ]
    }
   ],
   "source": [
    "selected_sudoku = sudoku_per_difficoltà[2][2]\n",
    "print(f\"Indice: {selected_sudoku['indice']}, Difficoltà: {selected_sudoku['difficoltà']}\")\n",
    "S2_C = sudoku.sudoku(selected_sudoku[\"schema_iniziale\"])\n",
    "S2_C.show()\n",
    "S2_C.solve()"
   ]
  },
  {
   "cell_type": "markdown",
   "id": "92408d85",
   "metadata": {},
   "source": [
    "## Difficoltà 3"
   ]
  },
  {
   "cell_type": "code",
   "execution_count": 9,
   "id": "d89e0c53",
   "metadata": {},
   "outputs": [
    {
     "name": "stdout",
     "output_type": "stream",
     "text": [
      "Indice: 7, Difficoltà: 3\n",
      " -----------------------\n",
      "| 6 0 0 | 1 0 0 | 0 5 8 |\n",
      "| 0 0 0 | 0 7 0 | 6 0 3 |\n",
      "| 0 0 8 | 0 0 9 | 4 2 0 |\n",
      " -----------------------\n",
      "| 9 0 0 | 7 0 2 | 8 0 0 |\n",
      "| 0 7 0 | 0 3 0 | 0 9 0 |\n",
      "| 0 0 6 | 8 0 1 | 0 0 5 |\n",
      " -----------------------\n",
      "| 0 6 1 | 2 0 0 | 7 0 0 |\n",
      "| 7 0 9 | 0 1 0 | 0 0 0 |\n",
      "| 3 2 0 | 0 0 7 | 0 0 1 |\n",
      " -----------------------\n"
     ]
    }
   ],
   "source": [
    "selected_sudoku = sudoku_per_difficoltà[3][0]\n",
    "print(f\"Indice: {selected_sudoku['indice']}, Difficoltà: {selected_sudoku['difficoltà']}\")\n",
    "S3_A = sudoku.sudoku(selected_sudoku[\"schema_iniziale\"])\n",
    "S3_A.show()\n",
    "S3_A.solve()"
   ]
  },
  {
   "cell_type": "markdown",
   "id": "89257bb4",
   "metadata": {},
   "source": [
    "## Difficoltà 4"
   ]
  },
  {
   "cell_type": "code",
   "execution_count": 10,
   "id": "670da7ba",
   "metadata": {},
   "outputs": [
    {
     "name": "stdout",
     "output_type": "stream",
     "text": [
      "Indice: 17, Difficoltà: 4\n",
      " -----------------------\n",
      "| 0 8 0 | 4 0 0 | 5 0 6 |\n",
      "| 7 0 0 | 0 0 6 | 0 0 0 |\n",
      "| 0 0 6 | 2 0 3 | 0 0 8 |\n",
      " -----------------------\n",
      "| 8 0 1 | 0 2 0 | 7 9 0 |\n",
      "| 0 0 0 | 7 9 1 | 0 0 0 |\n",
      "| 0 2 7 | 0 4 0 | 6 0 5 |\n",
      " -----------------------\n",
      "| 4 0 0 | 9 0 7 | 8 0 0 |\n",
      "| 0 0 0 | 5 0 0 | 0 0 1 |\n",
      "| 2 0 9 | 0 0 4 | 0 6 0 |\n",
      " -----------------------\n"
     ]
    }
   ],
   "source": [
    "selected_sudoku = sudoku_per_difficoltà[4][0]\n",
    "print(f\"Indice: {selected_sudoku['indice']}, Difficoltà: {selected_sudoku['difficoltà']}\")\n",
    "S4_A = sudoku.sudoku(selected_sudoku[\"schema_iniziale\"])\n",
    "S4_A.show()\n",
    "S4_A.solve()"
   ]
  },
  {
   "cell_type": "markdown",
   "id": "51c8a722",
   "metadata": {},
   "source": [
    "## Difficoltà 5"
   ]
  },
  {
   "cell_type": "code",
   "execution_count": 11,
   "id": "f6d28d4d",
   "metadata": {},
   "outputs": [
    {
     "name": "stdout",
     "output_type": "stream",
     "text": [
      "Indice: 38, Difficoltà: 5\n",
      "Numeri mancanti: 53\n",
      " -----------------------\n",
      "| 0 0 0 | 5 0 0 | 0 6 0 |\n",
      "| 0 0 7 | 0 0 3 | 4 0 9 |\n",
      "| 0 3 0 | 0 6 7 | 0 2 0 |\n",
      " -----------------------\n",
      "| 1 0 0 | 0 0 0 | 8 9 0 |\n",
      "| 0 0 3 | 0 0 0 | 2 0 0 |\n",
      "| 0 8 4 | 0 0 0 | 0 0 1 |\n",
      " -----------------------\n",
      "| 0 9 0 | 7 1 0 | 0 4 0 |\n",
      "| 4 0 6 | 9 0 0 | 7 0 0 |\n",
      "| 0 5 0 | 0 0 2 | 0 0 0 |\n",
      " -----------------------\n",
      "Sudoku completato. Sono stati aggiunti 53 numeri.\n",
      " -----------------------\n",
      "| 2 4 1 | 5 8 9 | 3 6 7 |\n",
      "| 5 6 7 | 1 2 3 | 4 8 9 |\n",
      "| 8 3 9 | 4 6 7 | 1 2 5 |\n",
      " -----------------------\n",
      "| 1 2 5 | 6 7 4 | 8 9 3 |\n",
      "| 6 7 3 | 8 9 1 | 2 5 4 |\n",
      "| 9 8 4 | 2 3 5 | 6 7 1 |\n",
      " -----------------------\n",
      "| 3 9 2 | 7 1 6 | 5 4 8 |\n",
      "| 4 1 6 | 9 5 8 | 7 3 2 |\n",
      "| 7 5 8 | 3 4 2 | 9 1 6 |\n",
      " -----------------------\n"
     ]
    }
   ],
   "source": [
    "selected_sudoku = data[77]\n",
    "print(f\"Indice: {selected_sudoku['indice']}, Difficoltà: {selected_sudoku['difficoltà']}\")\n",
    "S5_A = sudoku.sudoku(selected_sudoku[\"schema_iniziale\"],verbose=True)\n",
    "S5_A.show()\n",
    "S5_A.solve(verbose=True)\n",
    "#sudoku.sudoku(selected_sudoku[\"schema_risolto\"],verbose=False).show()"
   ]
  },
  {
   "cell_type": "markdown",
   "id": "0b1aa895",
   "metadata": {},
   "source": [
    "# Controllo errori"
   ]
  },
  {
   "cell_type": "markdown",
   "id": "26b3b7b6",
   "metadata": {},
   "source": [
    "### Applicare la classe ad un sudoku correttamente risolto (controllo errori)"
   ]
  },
  {
   "cell_type": "code",
   "execution_count": 12,
   "id": "00d4ff1b",
   "metadata": {},
   "outputs": [
    {
     "name": "stdout",
     "output_type": "stream",
     "text": [
      " -----------------------\n",
      "| 8 2 9 | 7 6 5 | 3 4 1 |\n",
      "| 1 4 7 | 3 2 8 | 9 6 5 |\n",
      "| 5 6 3 | 9 4 1 | 8 7 2 |\n",
      " -----------------------\n",
      "| 7 9 8 | 1 3 6 | 2 5 4 |\n",
      "| 4 1 6 | 5 9 2 | 7 8 3 |\n",
      "| 3 5 2 | 8 7 4 | 1 9 6 |\n",
      " -----------------------\n",
      "| 6 3 5 | 2 8 9 | 4 1 7 |\n",
      "| 9 7 4 | 6 1 3 | 5 2 8 |\n",
      "| 2 8 1 | 4 5 7 | 6 3 9 |\n",
      " -----------------------\n",
      "Sudoku risolto correttamente\n"
     ]
    }
   ],
   "source": [
    "# Settima sudoku n870, schema pagina principale (risolto)\n",
    "schema1 = [[8,2,9,7,6,5,3,4,1],\n",
    "           [1,4,7,3,2,8,9,6,5],\n",
    "           [5,6,3,9,4,1,8,7,2],\n",
    "           [7,9,8,1,3,6,2,5,4],\n",
    "           [4,1,6,5,9,2,7,8,3],\n",
    "           [3,5,2,8,7,4,1,9,6],\n",
    "           [6,3,5,2,8,9,4,1,7],\n",
    "           [9,7,4,6,1,3,5,2,8],\n",
    "           [2,8,1,4,5,7,6,3,9]] \n",
    "\n",
    "# Inizializzare la classe sudoku\n",
    "S1 = sudoku.sudoku(schema1)\n",
    "\n",
    "# Mostrare a schermo il sudoku\n",
    "S1.show()\n",
    "\n",
    "# Controllare la correttezza del sudoku\n",
    "check_correttezza = S1.check(verbose=True)"
   ]
  },
  {
   "cell_type": "markdown",
   "id": "efbc5d61",
   "metadata": {},
   "source": [
    "### Applicare la classe ad un sudoku con errori (controllo errori)"
   ]
  },
  {
   "cell_type": "code",
   "execution_count": 13,
   "id": "c1ccf0c4",
   "metadata": {},
   "outputs": [
    {
     "name": "stdout",
     "output_type": "stream",
     "text": [
      " -----------------------\n",
      "| 8 2 9 | 7 6 5 | 3 4 1 |\n",
      "| 1 4 7 | 3 2 8 | 9 6 5 |\n",
      "| 5 6 3 | 9 4 1 | 8 7 2 |\n",
      " -----------------------\n",
      "| 7 9 8 | 1 3 6 | 2 5 4 |\n",
      "| 4 1 6 | 5 9 2 | 7 8 3 |\n",
      "| 3 5 2 | 8 7 4 | 1 9 6 |\n",
      " -----------------------\n",
      "| 6 3 5 | 2 8 9 | 4 1 7 |\n",
      "| 9 7 4 | 6 1 3 | 5 2 8 |\n",
      "| 3 8 2 | 4 5 7 | 6 3 9 |\n",
      " -----------------------\n",
      "Ci sono errori nella risoluzione del sudoku\n"
     ]
    }
   ],
   "source": [
    "# Settima sudoku n870, schema pagina principale (risolto)\n",
    "schema1 = [[8,2,9,7,6,5,3,4,1],\n",
    "           [1,4,7,3,2,8,9,6,5],\n",
    "           [5,6,3,9,4,1,8,7,2],\n",
    "           [7,9,8,1,3,6,2,5,4],\n",
    "           [4,1,6,5,9,2,7,8,3],\n",
    "           [3,5,2,8,7,4,1,9,6],\n",
    "           [6,3,5,2,8,9,4,1,7],\n",
    "           [9,7,4,6,1,3,5,2,8],\n",
    "           [3,8,2,4,5,7,6,3,9]] \n",
    "\n",
    "# Inizializzare la classe sudoku\n",
    "S2 = sudoku.sudoku(schema1)\n",
    "\n",
    "# Mostrare a schermo il sudoku\n",
    "S2.show()\n",
    "\n",
    "# Controllare la correttezza del sudoku\n",
    "check_correttezza = S2.check(verbose=True)"
   ]
  },
  {
   "cell_type": "markdown",
   "id": "961ef206",
   "metadata": {},
   "source": [
    "# Suggestions"
   ]
  },
  {
   "cell_type": "code",
   "execution_count": 14,
   "id": "f444be0c",
   "metadata": {},
   "outputs": [
    {
     "name": "stdout",
     "output_type": "stream",
     "text": [
      " -----------------------\n",
      "| 8 0 0 | 0 0 5 | 0 4 1 |\n",
      "| 0 4 7 | 3 0 0 | 0 0 5 |\n",
      "| 0 6 3 | 0 0 1 | 8 0 0 |\n",
      " -----------------------\n",
      "| 0 9 0 | 1 0 0 | 2 0 4 |\n",
      "| 0 0 0 | 0 9 0 | 0 0 0 |\n",
      "| 3 0 2 | 0 0 4 | 0 9 0 |\n",
      " -----------------------\n",
      "| 0 0 5 | 2 0 0 | 4 1 0 |\n",
      "| 9 0 0 | 0 0 3 | 5 2 0 |\n",
      "| 2 8 0 | 4 0 0 | 0 0 9 |\n",
      " -----------------------\n",
      "Inserire il numero 2 in posizione: (1, 2)\n",
      "Sudoku completato. Sono stati aggiunti 48 numeri.\n",
      " -----------------------\n",
      "| 8 2 9 | 7 6 5 | 3 4 1 |\n",
      "| 1 4 7 | 3 2 8 | 9 6 5 |\n",
      "| 5 6 3 | 9 4 1 | 8 7 2 |\n",
      " -----------------------\n",
      "| 7 9 8 | 1 3 6 | 2 5 4 |\n",
      "| 4 1 6 | 5 9 2 | 7 8 3 |\n",
      "| 3 5 2 | 8 7 4 | 1 9 6 |\n",
      " -----------------------\n",
      "| 6 3 5 | 2 8 9 | 4 1 7 |\n",
      "| 9 7 4 | 6 1 3 | 5 2 8 |\n",
      "| 2 8 1 | 4 5 7 | 6 3 9 |\n",
      " -----------------------\n"
     ]
    }
   ],
   "source": [
    "S = sudoku.sudoku(data[0][\"schema_iniziale\"])\n",
    "S.show()\n",
    "S.suggest()\n",
    "S.solve(verbose=True)"
   ]
  },
  {
   "cell_type": "code",
   "execution_count": 15,
   "id": "33cec4ea",
   "metadata": {},
   "outputs": [
    {
     "name": "stdout",
     "output_type": "stream",
     "text": [
      " -----------------------\n",
      "| 8 0 0 | 0 0 5 | 0 4 1 |\n",
      "| 0 4 7 | 3 0 0 | 0 0 5 |\n",
      "| 0 6 3 | 0 0 1 | 8 0 0 |\n",
      " -----------------------\n",
      "| 0 9 0 | 1 0 0 | 2 0 4 |\n",
      "| 0 0 0 | 0 9 0 | 0 0 0 |\n",
      "| 3 0 2 | 0 0 4 | 0 9 0 |\n",
      " -----------------------\n",
      "| 0 0 5 | 2 0 0 | 4 1 0 |\n",
      "| 9 0 0 | 0 0 3 | 5 2 0 |\n",
      "| 2 8 0 | 4 0 0 | 0 0 9 |\n",
      " -----------------------\n",
      "Inserire il numero 2 in posizione: (1, 2)\n",
      "Inserire il numero 9 in posizione: (1, 3)\n",
      "Inserire il numero 1 in posizione: (2, 1)\n",
      "Inserire il numero 6 in posizione: (2, 8)\n",
      "Inserire il numero 5 in posizione: (3, 1)\n",
      "Inserire il numero 7 in posizione: (3, 8)\n",
      "Inserire il numero 2 in posizione: (3, 9)\n",
      "Inserire il numero 3 in posizione: (9, 8)\n",
      "Inserire il numero 3 in posizione: (1, 7)\n",
      "Inserire il numero 9 in posizione: (2, 7)\n"
     ]
    }
   ],
   "source": [
    "S = sudoku.sudoku(data[0][\"schema_iniziale\"])\n",
    "S.show()\n",
    "S.suggest(n_suggestions=10)"
   ]
  },
  {
   "cell_type": "code",
   "execution_count": 17,
   "id": "0a714a2b",
   "metadata": {},
   "outputs": [
    {
     "name": "stdout",
     "output_type": "stream",
     "text": [
      " -----------------------\n",
      "| 8 0 0 | 0 0 5 | 0 4 1 |\n",
      "| 0 4 7 | 3 0 0 | 0 0 5 |\n",
      "| 0 6 3 | 0 0 1 | 8 0 0 |\n",
      " -----------------------\n",
      "| 0 9 0 | 1 0 0 | 2 0 4 |\n",
      "| 0 0 0 | 0 9 0 | 0 0 0 |\n",
      "| 3 0 2 | 0 0 4 | 0 9 0 |\n",
      " -----------------------\n",
      "| 0 0 5 | 2 0 0 | 4 1 0 |\n",
      "| 9 0 0 | 0 0 3 | 5 2 0 |\n",
      "| 2 8 0 | 4 0 0 | 0 0 9 |\n",
      " -----------------------\n",
      "Inserire il numero 2 in posizione: (1, 2)\n",
      "Inserire il numero 9 in posizione: (1, 3)\n"
     ]
    }
   ],
   "source": [
    "S = sudoku.sudoku(data[0][\"schema_iniziale\"])\n",
    "S.show()\n",
    "S.suggest()\n",
    "S.suggest()\n"
   ]
  },
  {
   "cell_type": "markdown",
   "id": "e901923c",
   "metadata": {
    "vscode": {
     "languageId": "latex"
    }
   },
   "source": [
    "# Identifica errori"
   ]
  },
  {
   "cell_type": "code",
   "execution_count": 16,
   "id": "5a3feece",
   "metadata": {},
   "outputs": [
    {
     "name": "stdout",
     "output_type": "stream",
     "text": [
      "Errore in posizione (1, 2).\u001b[1;32m Numero corretto 2\u001b[0m,\u001b[1;31m Numero inserito 8 \u001b[0m.\n",
      "Errore in posizione (6, 4).\u001b[1;32m Numero corretto 8\u001b[0m,\u001b[1;31m Numero inserito 7 \u001b[0m.\n",
      "Errore in posizione (7, 1).\u001b[1;32m Numero corretto 6\u001b[0m,\u001b[1;31m Numero inserito 3 \u001b[0m.\n",
      " -----------------------\n",
      "| 8 \u001b[1;31m8\u001b[0m 9 | 7 6 5 | 3 4 1 |\n",
      "| 1 4 7 | 3 2 8 | 9 6 5 |\n",
      "| 5 6 3 | 9 4 1 | 8 7 2 |\n",
      " -----------------------\n",
      "| 7 9 8 | 1 3 6 | 2 5 4 |\n",
      "| 4 1 6 | 5 9 2 | 7 8 3 |\n",
      "| 3 5 2 | \u001b[1;31m7\u001b[0m 7 4 | 1 9 6 |\n",
      " -----------------------\n",
      "| \u001b[1;31m3\u001b[0m 3 5 | 2 8 9 | 4 1 7 |\n",
      "| 9 7 4 | 6 1 3 | 5 2 8 |\n",
      "| 2 8 1 | 4 5 7 | 6 3 9 |\n",
      " -----------------------\n",
      " -----------------------\n",
      "| 8 \u001b[1;32m2\u001b[0m 9 | 7 6 5 | 3 4 1 |\n",
      "| 1 4 7 | 3 2 8 | 9 6 5 |\n",
      "| 5 6 3 | 9 4 1 | 8 7 2 |\n",
      " -----------------------\n",
      "| 7 9 8 | 1 3 6 | 2 5 4 |\n",
      "| 4 1 6 | 5 9 2 | 7 8 3 |\n",
      "| 3 5 2 | \u001b[1;32m8\u001b[0m 7 4 | 1 9 6 |\n",
      " -----------------------\n",
      "| \u001b[1;32m6\u001b[0m 3 5 | 2 8 9 | 4 1 7 |\n",
      "| 9 7 4 | 6 1 3 | 5 2 8 |\n",
      "| 2 8 1 | 4 5 7 | 6 3 9 |\n",
      " -----------------------\n"
     ]
    }
   ],
   "source": [
    "I = sudoku.sudoku(data[0][\"schema_iniziale\"])\n",
    "#I.show()\n",
    "#I.solve(verbose=True)\n",
    "I.find_errors(soluzione=[[8, 8, 9, 7, 6, 5, 3, 4, 1],\n",
    "                   [1, 4, 7, 3, 2, 8, 9, 6, 5],\n",
    "                   [5, 6, 3, 9, 4, 1, 8, 7, 2],\n",
    "                   [7, 9, 8, 1, 3, 6, 2, 5, 4],\n",
    "                   [4, 1, 6, 5, 9, 2, 7, 8, 3],\n",
    "                   [3, 5, 2, 7, 7, 4, 1, 9, 6],\n",
    "                   [3, 3, 5, 2, 8, 9, 4, 1, 7],\n",
    "                   [9, 7, 4, 6, 1, 3, 5, 2, 8],\n",
    "                   [2, 8, 1, 4, 5, 7, 6, 3, 9]])"
   ]
  }
 ],
 "metadata": {
  "kernelspec": {
   "display_name": "datascience",
   "language": "python",
   "name": "python3"
  },
  "language_info": {
   "codemirror_mode": {
    "name": "ipython",
    "version": 3
   },
   "file_extension": ".py",
   "mimetype": "text/x-python",
   "name": "python",
   "nbconvert_exporter": "python",
   "pygments_lexer": "ipython3",
   "version": "3.9.22"
  }
 },
 "nbformat": 4,
 "nbformat_minor": 5
}
